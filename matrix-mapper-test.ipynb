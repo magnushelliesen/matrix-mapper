{
 "cells": [
  {
   "cell_type": "markdown",
   "metadata": {},
   "source": [
    "# Function/method (we'll see) that maps some matrix to some other matrix with specified dimensions"
   ]
  },
  {
   "cell_type": "code",
   "execution_count": null,
   "metadata": {},
   "outputs": [],
   "source": [
    "import numpy as np"
   ]
  },
  {
   "cell_type": "markdown",
   "metadata": {},
   "source": [
    "We want to map a matrix $\\bf{X} \\to \\bf{x}$.\n",
    "The dimensions of $\\bf{X}$ and $\\bf{x}$ are\n",
    "$N \\times M \\to n \\times m$, respectively, with $n<N$ and $m<M$.\n",
    "\n",
    "We need something like\n",
    "\n",
    "$$\n",
    "    x_{k, l} = \\frac{nm}{NM}\\sum_{\\substack{i\\in \\mathcal{N}_k,\\\\ j\\in \\mathcal{M}_l}}X_{i, j},\n",
    "$$\n",
    "\n",
    "where $\\mathcal{N}_k$ and $\\mathcal{M}_l$ are sets that contain the points in $\\bf{X}$ that we want mapped to $x_{k, l}$.\n",
    "\n",
    "How might we construct these sets?\n",
    "\n",
    "We want there to be $N/n$ sets\n",
    "$\\mathcal{N}_\\nu, \\nu=1, 2, \\ldots, N/n$,\n",
    "and $M/m$ sets\n",
    "$\\mathcal{M}_\\mu, \\mu=1, 2, \\ldots, M/n$.\n",
    "Off the bat, we cannot expect $N/n$ and $M/m$ to be integers; the easiest (and I'd say an acceptable) solution is to throw away rows and columns on the edges of $\\bf{X}$ until $N/n$ and $M/m$ become integers, i.e.\n",
    "$$\n",
    "N\\mod n = 0,\\\\\n",
    "M\\mod m = 0.\n",
    "$$\n",
    "\n",
    "Suppose $\\tilde{\\bf{X}}$ is our original matrix with dimension $\\tilde{N}\\times\\tilde{M}$. Suppose\n",
    "$\\tilde{N}\\mod n = a$ and\n",
    "$\\tilde{M}\\mod m = b$;\n",
    "then we throw away $a$ rows and $b$ columns along the edges of $\\tilde{\\bf{X}}$ (as symetrically as we can on the left/right/top/bottom), and call the resulting matrix $\\bf{X}$. $\\bf{X}$ now has dimension $N\\times M$ with $N=\\tilde{N}-a$ and $\\tilde{M}-b$, and by construction,\n",
    "$ N \\mod n = 0$, and\n",
    "$ M \\mod m = 0$,\n",
    "as desired.\n",
    "\n",
    "Now all I have to do is to program it up, and that is for another day :)"
   ]
  }
 ],
 "metadata": {
  "kernelspec": {
   "display_name": "magnus",
   "language": "python",
   "name": "python3"
  },
  "language_info": {
   "name": "python",
   "version": "3.9.16"
  }
 },
 "nbformat": 4,
 "nbformat_minor": 2
}
