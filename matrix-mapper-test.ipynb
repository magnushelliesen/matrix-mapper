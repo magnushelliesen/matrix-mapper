{
 "cells": [
  {
   "cell_type": "markdown",
   "metadata": {},
   "source": [
    "# Function/method (we'll see) that maps some matrix to some other matrix with specified dimensions\n",
    "\n",
    "## **UNDER CONSTRUCTION **"
   ]
  },
  {
   "cell_type": "code",
   "execution_count": 1,
   "metadata": {},
   "outputs": [],
   "source": [
    "import numpy as np\n",
    "from matrix_mapper.matrix_mapper import matrix_mapper"
   ]
  },
  {
   "cell_type": "markdown",
   "metadata": {},
   "source": [
    "We want to map a matrix $\\bf{X} \\to \\bf{x}$.\n",
    "The dimensions of $\\bf{X}$ and $\\bf{x}$ are\n",
    "$N \\times M \\to n \\times m$, respectively, with $n<N$ and $m<M$.\n",
    "\n",
    "We need something like\n",
    "\n",
    "$$\n",
    "    x_{k, l} = \\frac{nm}{NM}\\sum_{\\substack{i\\in \\mathcal{N}_k,\\\\ j\\in \\mathcal{M}_l}}X_{i, j},\n",
    "$$\n",
    "\n",
    "where $\\mathcal{N}_k$ and $\\mathcal{M}_l$ are sets that contain the points in $\\bf{X}$ that we want mapped to $x_{k, l}$.\n",
    "\n",
    "How might we construct these sets?\n",
    "\n",
    "We want there to be $N/n$ sets\n",
    "$\\mathcal{N}_\\nu, \\nu=1, 2, \\ldots, N/n$,\n",
    "and $M/m$ sets\n",
    "$\\mathcal{M}_\\mu, \\mu=1, 2, \\ldots, M/n$.\n",
    "Off the bat, we cannot expect $N/n$ and $M/m$ to be integers; the easiest (and I'd say an acceptable) solution is to throw away rows and columns on the edges of $\\bf{X}$ until $N/n$ and $M/m$ become integers, i.e.\n",
    "$$\n",
    "N\\mod n = 0,\n",
    "$$\n",
    "$$\n",
    "M\\mod m = 0.\n",
    "$$\n",
    "\n",
    "Suppose $\\tilde{\\bf{X}}$ is our original matrix with dimension $\\tilde{N}\\times\\tilde{M}$. Suppose\n",
    "$\\tilde{N}\\mod n = a$ and\n",
    "$\\tilde{M}\\mod m = b$;\n",
    "then we throw away $a$ rows and $b$ columns along the edges of $\\tilde{\\bf{X}}$ (as symetrically as we can on the left/right/top/bottom), and call the resulting matrix $\\bf{X}$. $\\bf{X}$ now has dimension $N\\times M$ with $N=\\tilde{N}-a$ and $\\tilde{M}-b$, and by construction,\n",
    "$ N \\mod n = 0$, and\n",
    "$ M \\mod m = 0$,\n",
    "as desired.\n",
    "\n",
    "Now all I have to do is to program it up, and that is for another day :)"
   ]
  },
  {
   "cell_type": "markdown",
   "metadata": {},
   "source": [
    "## Test of function\n",
    "I've just started the process of cropping the original matrix. Next comes the actual shrinking."
   ]
  },
  {
   "cell_type": "code",
   "execution_count": 2,
   "metadata": {},
   "outputs": [],
   "source": [
    "X = np.ones((100, 120))\n",
    "x = matrix_mapper(X, 28, 28)"
   ]
  },
  {
   "cell_type": "code",
   "execution_count": 3,
   "metadata": {},
   "outputs": [
    {
     "data": {
      "text/plain": [
       "(84, 112)"
      ]
     },
     "execution_count": 3,
     "metadata": {},
     "output_type": "execute_result"
    }
   ],
   "source": [
    "# The cropped matrix has dimensions that are integer multiples of what I want :)\n",
    "x.shape"
   ]
  }
 ],
 "metadata": {
  "kernelspec": {
   "display_name": "magnus",
   "language": "python",
   "name": "python3"
  },
  "language_info": {
   "codemirror_mode": {
    "name": "ipython",
    "version": 3
   },
   "file_extension": ".py",
   "mimetype": "text/x-python",
   "name": "python",
   "nbconvert_exporter": "python",
   "pygments_lexer": "ipython3",
   "version": "3.9.16"
  }
 },
 "nbformat": 4,
 "nbformat_minor": 2
}
