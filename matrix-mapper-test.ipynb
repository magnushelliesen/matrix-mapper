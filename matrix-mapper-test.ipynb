{
 "cells": [
  {
   "cell_type": "markdown",
   "metadata": {},
   "source": [
    "# Function that maps a matrix to some other matrix with specified dimensions"
   ]
  },
  {
   "cell_type": "code",
   "execution_count": null,
   "metadata": {},
   "outputs": [],
   "source": [
    "import numpy as np"
   ]
  },
  {
   "cell_type": "markdown",
   "metadata": {},
   "source": [
    "We want to map a matrix $\\bf{X} \\to \\bf{x}$.\n",
    "The dimensions of $\\bf{X}$ and $\\bf{x}$ are\n",
    "$N \\times M \\to n \\times m$, respectively, with $n<N$ and $m<M$.\n",
    "\n",
    "We need something like\n",
    "\n",
    "$$\n",
    "    x_{k, l} = \\frac{nm}{NM}\\sum_{\\substack{i\\in \\mathcal{N}_k,\\\\ j\\in \\mathcal{M}_l}}X_{i, j},\n",
    "$$\n",
    "\n",
    "where $\\mathcal{N}_k$ and $\\mathcal{M}_l$ are sets that contain the points in $\\bf{X}$ that we want mapped to $x_{k, l}$.\n",
    "\n",
    "How might we construct these sets?\n",
    "\n",
    "We want there to be $N/n$ sets\n",
    "$\\mathcal{N}_\\nu, \\nu=1, 2, \\ldots, N/n$,\n",
    "and $M/m$ sets\n",
    "$\\mathcal{M}_\\mu, \\mu=1, 2, \\ldots, M/n$.\n",
    "We cannot guarantee that $N/n$ and $M/m$ are integers; the easiest (and an acceptable solution) is to throw away rows and columns on the edge of $\\bf{X}$ until $N/n$ and $M/m$ become integers, i.e.\n",
    "$ N \\mod n = 0$, and\n",
    "$ M \\mod m = 0$."
   ]
  }
 ],
 "metadata": {
  "kernelspec": {
   "display_name": "magnus",
   "language": "python",
   "name": "python3"
  },
  "language_info": {
   "name": "python",
   "version": "3.9.16"
  }
 },
 "nbformat": 4,
 "nbformat_minor": 2
}
